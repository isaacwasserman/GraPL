{
 "cells": [
  {
   "cell_type": "code",
   "execution_count": 1,
   "metadata": {},
   "outputs": [
    {
     "name": "stdout",
     "output_type": "stream",
     "text": [
      "Collecting scikit-image\n",
      "  Downloading scikit_image-0.22.0-cp310-cp310-manylinux_2_17_x86_64.manylinux2014_x86_64.whl.metadata (13 kB)\n",
      "Collecting scikit-learn\n",
      "  Downloading scikit_learn-1.4.1.post1-cp310-cp310-manylinux_2_17_x86_64.manylinux2014_x86_64.whl.metadata (11 kB)\n",
      "Collecting matplotlib\n",
      "  Downloading matplotlib-3.8.3-cp310-cp310-manylinux_2_17_x86_64.manylinux2014_x86_64.whl.metadata (5.8 kB)\n",
      "Collecting pandas\n",
      "  Downloading pandas-2.2.0-cp310-cp310-manylinux_2_17_x86_64.manylinux2014_x86_64.whl.metadata (19 kB)\n",
      "Requirement already satisfied: tqdm in /usr/local/lib/python3.10/dist-packages (4.66.2)\n",
      "Collecting gco-wrapper\n",
      "  Downloading gco_wrapper-3.0.9-cp310-cp310-manylinux_2_17_x86_64.manylinux2014_x86_64.whl.metadata (5.5 kB)\n",
      "Collecting line_profiler\n",
      "  Downloading line_profiler-4.1.2-cp310-cp310-manylinux_2_17_x86_64.manylinux2014_x86_64.whl.metadata (31 kB)\n",
      "Collecting torchmetrics\n",
      "  Downloading torchmetrics-1.3.1-py3-none-any.whl.metadata (19 kB)\n",
      "Requirement already satisfied: numpy>=1.22 in /usr/local/lib/python3.10/dist-packages (from scikit-image) (1.24.1)\n",
      "Collecting scipy>=1.8 (from scikit-image)\n",
      "  Downloading scipy-1.12.0-cp310-cp310-manylinux_2_17_x86_64.manylinux2014_x86_64.whl.metadata (60 kB)\n",
      "\u001b[2K     \u001b[90m━━━━━━━━━━━━━━━━━━━━━━━━━━━━━━━━━━━━━━━━\u001b[0m \u001b[32m60.4/60.4 kB\u001b[0m \u001b[31m6.3 MB/s\u001b[0m eta \u001b[36m0:00:00\u001b[0m\n",
      "\u001b[?25hRequirement already satisfied: networkx>=2.8 in /usr/local/lib/python3.10/dist-packages (from scikit-image) (3.0)\n",
      "Requirement already satisfied: pillow>=9.0.1 in /usr/local/lib/python3.10/dist-packages (from scikit-image) (9.3.0)\n",
      "Collecting imageio>=2.27 (from scikit-image)\n",
      "  Downloading imageio-2.34.0-py3-none-any.whl.metadata (4.9 kB)\n",
      "Collecting tifffile>=2022.8.12 (from scikit-image)\n",
      "  Downloading tifffile-2024.2.12-py3-none-any.whl.metadata (31 kB)\n",
      "Requirement already satisfied: packaging>=21 in /usr/local/lib/python3.10/dist-packages (from scikit-image) (23.2)\n",
      "Collecting lazy_loader>=0.3 (from scikit-image)\n",
      "  Downloading lazy_loader-0.3-py3-none-any.whl.metadata (4.3 kB)\n",
      "Collecting joblib>=1.2.0 (from scikit-learn)\n",
      "  Downloading joblib-1.3.2-py3-none-any.whl.metadata (5.4 kB)\n",
      "Collecting threadpoolctl>=2.0.0 (from scikit-learn)\n",
      "  Downloading threadpoolctl-3.3.0-py3-none-any.whl.metadata (13 kB)\n",
      "Collecting contourpy>=1.0.1 (from matplotlib)\n",
      "  Downloading contourpy-1.2.0-cp310-cp310-manylinux_2_17_x86_64.manylinux2014_x86_64.whl.metadata (5.8 kB)\n",
      "Collecting cycler>=0.10 (from matplotlib)\n",
      "  Downloading cycler-0.12.1-py3-none-any.whl.metadata (3.8 kB)\n",
      "Collecting fonttools>=4.22.0 (from matplotlib)\n",
      "  Downloading fonttools-4.49.0-cp310-cp310-manylinux_2_17_x86_64.manylinux2014_x86_64.whl.metadata (159 kB)\n",
      "\u001b[2K     \u001b[90m━━━━━━━━━━━━━━━━━━━━━━━━━━━━━━━━━━━━━━\u001b[0m \u001b[32m159.1/159.1 kB\u001b[0m \u001b[31m16.2 MB/s\u001b[0m eta \u001b[36m0:00:00\u001b[0m\n",
      "\u001b[?25hCollecting kiwisolver>=1.3.1 (from matplotlib)\n",
      "  Downloading kiwisolver-1.4.5-cp310-cp310-manylinux_2_12_x86_64.manylinux2010_x86_64.whl.metadata (6.4 kB)\n",
      "Requirement already satisfied: pyparsing>=2.3.1 in /usr/lib/python3/dist-packages (from matplotlib) (2.4.7)\n",
      "Requirement already satisfied: python-dateutil>=2.7 in /usr/local/lib/python3.10/dist-packages (from matplotlib) (2.8.2)\n",
      "Collecting pytz>=2020.1 (from pandas)\n",
      "  Downloading pytz-2024.1-py2.py3-none-any.whl.metadata (22 kB)\n",
      "Collecting tzdata>=2022.7 (from pandas)\n",
      "  Downloading tzdata-2024.1-py2.py3-none-any.whl.metadata (1.4 kB)\n",
      "Collecting Cython>=0.23.1 (from gco-wrapper)\n",
      "  Downloading Cython-3.0.8-cp310-cp310-manylinux_2_17_x86_64.manylinux2014_x86_64.whl.metadata (3.2 kB)\n",
      "Requirement already satisfied: torch>=1.10.0 in /usr/local/lib/python3.10/dist-packages (from torchmetrics) (2.1.0+cu118)\n",
      "Collecting lightning-utilities>=0.8.0 (from torchmetrics)\n",
      "  Downloading lightning_utilities-0.10.1-py3-none-any.whl.metadata (4.8 kB)\n",
      "Requirement already satisfied: setuptools in /usr/local/lib/python3.10/dist-packages (from lightning-utilities>=0.8.0->torchmetrics) (68.2.2)\n",
      "Requirement already satisfied: typing-extensions in /usr/local/lib/python3.10/dist-packages (from lightning-utilities>=0.8.0->torchmetrics) (4.4.0)\n",
      "Requirement already satisfied: six>=1.5 in /usr/lib/python3/dist-packages (from python-dateutil>=2.7->matplotlib) (1.16.0)\n",
      "Requirement already satisfied: filelock in /usr/local/lib/python3.10/dist-packages (from torch>=1.10.0->torchmetrics) (3.9.0)\n",
      "Requirement already satisfied: sympy in /usr/local/lib/python3.10/dist-packages (from torch>=1.10.0->torchmetrics) (1.12)\n",
      "Requirement already satisfied: jinja2 in /usr/local/lib/python3.10/dist-packages (from torch>=1.10.0->torchmetrics) (3.1.2)\n",
      "Requirement already satisfied: fsspec in /usr/local/lib/python3.10/dist-packages (from torch>=1.10.0->torchmetrics) (2023.4.0)\n",
      "Requirement already satisfied: triton==2.1.0 in /usr/local/lib/python3.10/dist-packages (from torch>=1.10.0->torchmetrics) (2.1.0)\n",
      "Requirement already satisfied: MarkupSafe>=2.0 in /usr/local/lib/python3.10/dist-packages (from jinja2->torch>=1.10.0->torchmetrics) (2.1.2)\n",
      "Requirement already satisfied: mpmath>=0.19 in /usr/local/lib/python3.10/dist-packages (from sympy->torch>=1.10.0->torchmetrics) (1.3.0)\n",
      "Downloading scikit_image-0.22.0-cp310-cp310-manylinux_2_17_x86_64.manylinux2014_x86_64.whl (14.7 MB)\n",
      "\u001b[2K   \u001b[90m━━━━━━━━━━━━━━━━━━━━━━━━━━━━━━━━━━━━━━━━\u001b[0m \u001b[32m14.7/14.7 MB\u001b[0m \u001b[31m103.2 MB/s\u001b[0m eta \u001b[36m0:00:00\u001b[0m00:01\u001b[0m00:01\u001b[0m\n",
      "\u001b[?25hDownloading scikit_learn-1.4.1.post1-cp310-cp310-manylinux_2_17_x86_64.manylinux2014_x86_64.whl (12.1 MB)\n",
      "\u001b[2K   \u001b[90m━━━━━━━━━━━━━━━━━━━━━━━━━━━━━━━━━━━━━━━━\u001b[0m \u001b[32m12.1/12.1 MB\u001b[0m \u001b[31m97.9 MB/s\u001b[0m eta \u001b[36m0:00:00\u001b[0m:00:01\u001b[0m0:01\u001b[0m\n",
      "\u001b[?25hDownloading matplotlib-3.8.3-cp310-cp310-manylinux_2_17_x86_64.manylinux2014_x86_64.whl (11.6 MB)\n",
      "\u001b[2K   \u001b[90m━━━━━━━━━━━━━━━━━━━━━━━━━━━━━━━━━━━━━━━━\u001b[0m \u001b[32m11.6/11.6 MB\u001b[0m \u001b[31m107.6 MB/s\u001b[0m eta \u001b[36m0:00:00\u001b[0m00:01\u001b[0m0:01\u001b[0m\n",
      "\u001b[?25hDownloading pandas-2.2.0-cp310-cp310-manylinux_2_17_x86_64.manylinux2014_x86_64.whl (13.0 MB)\n",
      "\u001b[2K   \u001b[90m━━━━━━━━━━━━━━━━━━━━━━━━━━━━━━━━━━━━━━━━\u001b[0m \u001b[32m13.0/13.0 MB\u001b[0m \u001b[31m104.7 MB/s\u001b[0m eta \u001b[36m0:00:00\u001b[0m00:01\u001b[0m0:01\u001b[0m\n",
      "\u001b[?25hDownloading gco_wrapper-3.0.9-cp310-cp310-manylinux_2_17_x86_64.manylinux2014_x86_64.whl (243 kB)\n",
      "\u001b[2K   \u001b[90m━━━━━━━━━━━━━━━━━━━━━━━━━━━━━━━━━━━━━━━━\u001b[0m \u001b[32m243.0/243.0 kB\u001b[0m \u001b[31m29.0 MB/s\u001b[0m eta \u001b[36m0:00:00\u001b[0m\n",
      "\u001b[?25hDownloading line_profiler-4.1.2-cp310-cp310-manylinux_2_17_x86_64.manylinux2014_x86_64.whl (714 kB)\n",
      "\u001b[2K   \u001b[90m━━━━━━━━━━━━━━━━━━━━━━━━━━━━━━━━━━━━━━━━\u001b[0m \u001b[32m714.8/714.8 kB\u001b[0m \u001b[31m54.8 MB/s\u001b[0m eta \u001b[36m0:00:00\u001b[0m\n",
      "\u001b[?25hDownloading torchmetrics-1.3.1-py3-none-any.whl (840 kB)\n",
      "\u001b[2K   \u001b[90m━━━━━━━━━━━━━━━━━━━━━━━━━━━━━━━━━━━━━━━━\u001b[0m \u001b[32m840.4/840.4 kB\u001b[0m \u001b[31m43.6 MB/s\u001b[0m eta \u001b[36m0:00:00\u001b[0m\n",
      "\u001b[?25hDownloading contourpy-1.2.0-cp310-cp310-manylinux_2_17_x86_64.manylinux2014_x86_64.whl (310 kB)\n",
      "\u001b[2K   \u001b[90m━━━━━━━━━━━━━━━━━━━━━━━━━━━━━━━━━━━━━━━━\u001b[0m \u001b[32m310.7/310.7 kB\u001b[0m \u001b[31m26.9 MB/s\u001b[0m eta \u001b[36m0:00:00\u001b[0m\n",
      "\u001b[?25hDownloading cycler-0.12.1-py3-none-any.whl (8.3 kB)\n",
      "Downloading Cython-3.0.8-cp310-cp310-manylinux_2_17_x86_64.manylinux2014_x86_64.whl (3.6 MB)\n",
      "\u001b[2K   \u001b[90m━━━━━━━━━━━━━━━━━━━━━━━━━━━━━━━━━━━━━━━━\u001b[0m \u001b[32m3.6/3.6 MB\u001b[0m \u001b[31m83.8 MB/s\u001b[0m eta \u001b[36m0:00:00\u001b[0m:00:01\u001b[0m\n",
      "\u001b[?25hDownloading fonttools-4.49.0-cp310-cp310-manylinux_2_17_x86_64.manylinux2014_x86_64.whl (4.6 MB)\n",
      "\u001b[2K   \u001b[90m━━━━━━━━━━━━━━━━━━━━━━━━━━━━━━━━━━━━━━━━\u001b[0m \u001b[32m4.6/4.6 MB\u001b[0m \u001b[31m71.9 MB/s\u001b[0m eta \u001b[36m0:00:00\u001b[0m:00:01\u001b[0m\n",
      "\u001b[?25hDownloading imageio-2.34.0-py3-none-any.whl (313 kB)\n",
      "\u001b[2K   \u001b[90m━━━━━━━━━━━━━━━━━━━━━━━━━━━━━━━━━━━━━━━━\u001b[0m \u001b[32m313.4/313.4 kB\u001b[0m \u001b[31m27.9 MB/s\u001b[0m eta \u001b[36m0:00:00\u001b[0m\n",
      "\u001b[?25hDownloading joblib-1.3.2-py3-none-any.whl (302 kB)\n",
      "\u001b[2K   \u001b[90m━━━━━━━━━━━━━━━━━━━━━━━━━━━━━━━━━━━━━━━━\u001b[0m \u001b[32m302.2/302.2 kB\u001b[0m \u001b[31m24.4 MB/s\u001b[0m eta \u001b[36m0:00:00\u001b[0m\n",
      "\u001b[?25hDownloading kiwisolver-1.4.5-cp310-cp310-manylinux_2_12_x86_64.manylinux2010_x86_64.whl (1.6 MB)\n",
      "\u001b[2K   \u001b[90m━━━━━━━━━━━━━━━━━━━━━━━━━━━━━━━━━━━━━━━━\u001b[0m \u001b[32m1.6/1.6 MB\u001b[0m \u001b[31m55.7 MB/s\u001b[0m eta \u001b[36m0:00:00\u001b[0m\n",
      "\u001b[?25hDownloading lazy_loader-0.3-py3-none-any.whl (9.1 kB)\n",
      "Downloading lightning_utilities-0.10.1-py3-none-any.whl (24 kB)\n",
      "Downloading pytz-2024.1-py2.py3-none-any.whl (505 kB)\n",
      "\u001b[2K   \u001b[90m━━━━━━━━━━━━━━━━━━━━━━━━━━━━━━━━━━━━━━━━\u001b[0m \u001b[32m505.5/505.5 kB\u001b[0m \u001b[31m33.4 MB/s\u001b[0m eta \u001b[36m0:00:00\u001b[0m\n",
      "\u001b[?25hDownloading scipy-1.12.0-cp310-cp310-manylinux_2_17_x86_64.manylinux2014_x86_64.whl (38.4 MB)\n",
      "\u001b[2K   \u001b[90m━━━━━━━━━━━━━━━━━━━━━━━━━━━━━━━━━━━━━━━━\u001b[0m \u001b[32m38.4/38.4 MB\u001b[0m \u001b[31m65.3 MB/s\u001b[0m eta \u001b[36m0:00:00\u001b[0m:00:01\u001b[0m00:01\u001b[0m\n",
      "\u001b[?25hDownloading threadpoolctl-3.3.0-py3-none-any.whl (17 kB)\n",
      "Downloading tifffile-2024.2.12-py3-none-any.whl (224 kB)\n",
      "\u001b[2K   \u001b[90m━━━━━━━━━━━━━━━━━━━━━━━━━━━━━━━━━━━━━━━━\u001b[0m \u001b[32m224.5/224.5 kB\u001b[0m \u001b[31m22.3 MB/s\u001b[0m eta \u001b[36m0:00:00\u001b[0m\n",
      "\u001b[?25hDownloading tzdata-2024.1-py2.py3-none-any.whl (345 kB)\n",
      "\u001b[2K   \u001b[90m━━━━━━━━━━━━━━━━━━━━━━━━━━━━━━━━━━━━━━━━\u001b[0m \u001b[32m345.4/345.4 kB\u001b[0m \u001b[31m26.0 MB/s\u001b[0m eta \u001b[36m0:00:00\u001b[0m\n",
      "\u001b[?25hInstalling collected packages: pytz, tzdata, tifffile, threadpoolctl, scipy, line_profiler, lightning-utilities, lazy_loader, kiwisolver, joblib, imageio, fonttools, Cython, cycler, contourpy, scikit-learn, scikit-image, pandas, matplotlib, gco-wrapper, torchmetrics\n",
      "Successfully installed Cython-3.0.8 contourpy-1.2.0 cycler-0.12.1 fonttools-4.49.0 gco-wrapper-3.0.9 imageio-2.34.0 joblib-1.3.2 kiwisolver-1.4.5 lazy_loader-0.3 lightning-utilities-0.10.1 line_profiler-4.1.2 matplotlib-3.8.3 pandas-2.2.0 pytz-2024.1 scikit-image-0.22.0 scikit-learn-1.4.1.post1 scipy-1.12.0 threadpoolctl-3.3.0 tifffile-2024.2.12 torchmetrics-1.3.1 tzdata-2024.1\n",
      "\u001b[33mWARNING: Running pip as the 'root' user can result in broken permissions and conflicting behaviour with the system package manager. It is recommended to use a virtual environment instead: https://pip.pypa.io/warnings/venv\u001b[0m\u001b[33m\n",
      "\u001b[0m\n",
      "\u001b[1m[\u001b[0m\u001b[34;49mnotice\u001b[0m\u001b[1;39;49m]\u001b[0m\u001b[39;49m A new release of pip is available: \u001b[0m\u001b[31;49m23.3.1\u001b[0m\u001b[39;49m -> \u001b[0m\u001b[32;49m24.0\u001b[0m\n",
      "\u001b[1m[\u001b[0m\u001b[34;49mnotice\u001b[0m\u001b[1;39;49m]\u001b[0m\u001b[39;49m To update, run: \u001b[0m\u001b[32;49mpython -m pip install --upgrade pip\u001b[0m\n"
     ]
    }
   ],
   "source": [
    "!pip install scikit-image scikit-learn matplotlib pandas tqdm gco-wrapper line_profiler torchmetrics"
   ]
  },
  {
   "cell_type": "code",
   "execution_count": 3,
   "metadata": {},
   "outputs": [
    {
     "name": "stdout",
     "output_type": "stream",
     "text": [
      "--2024-02-19 01:08:05--  https://storage.googleapis.com/thesis_cloud_files/CocoStuff_curated_coarse_val_only.zip\n",
      "Resolving storage.googleapis.com (storage.googleapis.com)... 142.251.36.155, 142.251.37.123, 142.251.36.91, ...\n",
      "Connecting to storage.googleapis.com (storage.googleapis.com)|142.251.36.155|:443... connected.\n",
      "HTTP request sent, awaiting response... 200 OK\n",
      "Length: 378408755 (361M) [application/zip]\n",
      "Saving to: ‘datasets/CocoStuff_curated_coarse_val_only.zip’\n",
      "\n",
      "CocoStuff_curated_c 100%[===================>] 360.88M  37.1MB/s    in 10s     \n",
      "\n",
      "2024-02-19 01:08:15 (35.2 MB/s) - ‘datasets/CocoStuff_curated_coarse_val_only.zip’ saved [378408755/378408755]\n",
      "\n"
     ]
    }
   ],
   "source": [
    "!wget -P datasets https://storage.googleapis.com/thesis_cloud_files/CocoStuff_curated_coarse_val_only.zip\n",
    "!apt-get update\n",
    "!apt-get install -y unzip\n",
    "!unzip datasets/CocoStuff_curated_coarse_val_only.zip -d datasets"
   ]
  },
  {
   "cell_type": "code",
   "execution_count": 1,
   "metadata": {},
   "outputs": [
    {
     "name": "stdout",
     "output_type": "stream",
     "text": [
      "env: CUDA_LAUNCH_BLOCKING=1\n",
      "env: CUBLAS_WORKSPACE_CONFIG=:4096:8\n"
     ]
    },
    {
     "name": "stderr",
     "output_type": "stream",
     "text": [
      "/usr/local/lib/python3.10/dist-packages/gco/__init__.py:7: FutureWarning: In the future `np.bool` will be defined as the corresponding NumPy scalar.  (This may have returned Python scalars in past versions.\n",
      "  if not hasattr(numpy, name):\n"
     ]
    }
   ],
   "source": [
    "%env CUDA_LAUNCH_BLOCKING=1\n",
    "%env CUBLAS_WORKSPACE_CONFIG=:4096:8\n",
    "%load_ext line_profiler\n",
    "%load_ext autoreload\n",
    "%autoreload 2\n",
    "from GraPL import GraPL_Segmentor, side_by_side, view_multichannel, PatchDL, GraPLNet, segment#, segment_coco_val\n",
    "import glob\n",
    "import tqdm\n",
    "import matplotlib.pyplot as plt\n",
    "from GraPL.evaluate import *\n",
    "import numpy as np\n",
    "import warnings\n",
    "import torch\n",
    "import pandas as pd\n",
    "import os\n",
    "import json\n",
    "warnings.filterwarnings(\"ignore\")"
   ]
  },
  {
   "cell_type": "code",
   "execution_count": 2,
   "metadata": {},
   "outputs": [],
   "source": [
    "val_image_ids = [os.path.basename(f) for f in glob.glob('datasets/CocoStuff_curated_coarse_val_only/images/val2017/*')]\n",
    "val_image_ids = [f.split('.')[0] for f in val_image_ids]\n",
    "\n",
    "params = {\n",
    "    'iterations': 4,\n",
    "    'k': 14,\n",
    "    'd': 32,\n",
    "    'lambda_': 64,\n",
    "    'subset_size': 0.5,\n",
    "    'max_epochs': 40,\n",
    "    'min_epochs': 12,\n",
    "    'n_filters': 32,\n",
    "    'bottleneck_dim': 8,\n",
    "    'compactness': 0.1,\n",
    "    'sigma': 10,\n",
    "    'seed': 0,\n",
    "    'use_continuity_loss': True,\n",
    "    'continuity_range': 1,\n",
    "    'continuity_p': 1,\n",
    "    'continuity_weight': 2,\n",
    "    'use_min_loss': True,\n",
    "    'use_coords': False,\n",
    "    'use_embeddings': False,\n",
    "    'use_color_distance_weights': True,\n",
    "    'initialization_method': 'slic',\n",
    "    'use_fully_connected': True,\n",
    "    'use_collapse_penalty': False,\n",
    "    'use_cold_start': False,\n",
    "    'num_layers': 3,\n",
    "    'use_graph_cut': True\n",
    "}"
   ]
  },
  {
   "cell_type": "code",
   "execution_count": 3,
   "metadata": {},
   "outputs": [],
   "source": [
    "from concurrent.futures import ProcessPoolExecutor, ThreadPoolExecutor\n",
    "\n",
    "def segment_coco_val(results_dir=None, resume=False, progress_bar=None, debug_num=-1, should_score=True, **hyperparams):\n",
    "    if results_dir is None:\n",
    "        raise ValueError(\"results_dir must be specified\")\n",
    "    os.makedirs(results_dir, exist_ok=True)\n",
    "    val_image_ids = [os.path.basename(f) for f in glob.glob('datasets/CocoStuff_curated_coarse_val_only/images/val2017/*')]\n",
    "    val_image_ids = [f.split('.')[0] for f in val_image_ids]\n",
    "    image_paths = [f\"datasets/CocoStuff_curated_coarse_val_only/images/val2017/{id}.jpg\" for id in val_image_ids]\n",
    "    paramset_scores = {}\n",
    "    if progress_bar is None:\n",
    "        progress_bar = tqdm.tqdm(total=len(image_paths))\n",
    "    if debug_num > 0:\n",
    "        image_paths = image_paths[:debug_num]\n",
    "\n",
    "    def per_image_mapable(image_path):\n",
    "        id = image_path.split('/')[-1].split('.')[0]\n",
    "        image = plt.imread(image_path)[:,:,:3]\n",
    "        image_scores = {}\n",
    "        save_path = f'{results_dir}/{id}.png'\n",
    "        if resume and os.path.exists(save_path):\n",
    "            if should_score:\n",
    "                image_scores = coco_score(id, save_path)\n",
    "                paramset_scores[id] = image_scores\n",
    "            progress_bar.update(1)\n",
    "            return\n",
    "        seg = segment(image, save_path=save_path, **hyperparams)\n",
    "        if should_score:\n",
    "            image_scores = coco_score(id, save_path)\n",
    "            paramset_scores[id] = image_scores\n",
    "        progress_bar.update(1)\n",
    "\n",
    "    with ThreadPoolExecutor(max_workers=8) as executor:\n",
    "        tqdm.tqdm(executor.map(per_image_mapable, image_paths), total=len(image_paths))\n",
    "\n",
    "\n",
    "    # for image_path in image_paths:\n",
    "    #     id = image_path.split('/')[-1].split('.')[0]\n",
    "    #     image = plt.imread(image_path)[:,:,:3]\n",
    "    #     image_scores = {}\n",
    "    #     save_path = f'{results_dir}/{id}.png'\n",
    "    #     if resume and os.path.exists(save_path):\n",
    "    #         if should_score:\n",
    "    #             image_scores = coco_score(id, save_path)\n",
    "    #             paramset_scores[id] = image_scores\n",
    "    #         progress_bar.update(1)\n",
    "    #         continue\n",
    "    #     seg = segment(image, save_path=save_path, **hyperparams)\n",
    "    #     if should_score:\n",
    "    #         image_scores = coco_score(id, save_path)\n",
    "    #         paramset_scores[id] = image_scores\n",
    "    #     progress_bar.update(1)\n",
    "    with open(f'{results_dir}/scores.json', 'w') as fp:\n",
    "        results = {\"hyperparams\": hyperparams, \"scores\": paramset_scores}\n",
    "        json.dump(results, fp)\n",
    "    return paramset_scores"
   ]
  },
  {
   "cell_type": "code",
   "execution_count": 5,
   "metadata": {},
   "outputs": [
    {
     "name": "stdout",
     "output_type": "stream",
     "text": [
      "Running experiment with seeds: [0]\n"
     ]
    },
    {
     "name": "stderr",
     "output_type": "stream",
     "text": [
      "  0%|          | 0/2175 [00:00<?, ?it/s]"
     ]
    },
    {
     "name": "stderr",
     "output_type": "stream",
     "text": [
      "\n",
      "  0%|          | 0/2175 [00:01<?, ?it/s]\n"
     ]
    },
    {
     "ename": "IndexError",
     "evalue": "list index out of range",
     "output_type": "error",
     "traceback": [
      "\u001b[0;31m---------------------------------------------------------------------------\u001b[0m",
      "\u001b[0;31mIndexError\u001b[0m                                Traceback (most recent call last)",
      "Cell \u001b[0;32mIn[5], line 26\u001b[0m\n\u001b[1;32m     23\u001b[0m     aggregate_scores \u001b[38;5;241m=\u001b[39m mean_over_trials\n\u001b[1;32m     24\u001b[0m     \u001b[38;5;28;01mreturn\u001b[39;00m aggregate_scores\n\u001b[0;32m---> 26\u001b[0m \u001b[43mrun_experiment\u001b[49m\u001b[43m(\u001b[49m\u001b[43mparams\u001b[49m\u001b[43m,\u001b[49m\u001b[43m \u001b[49m\u001b[43mnum_trials\u001b[49m\u001b[38;5;241;43m=\u001b[39;49m\u001b[38;5;241;43m1\u001b[39;49m\u001b[43m,\u001b[49m\u001b[43m \u001b[49m\u001b[43mshould_score\u001b[49m\u001b[38;5;241;43m=\u001b[39;49m\u001b[38;5;28;43;01mTrue\u001b[39;49;00m\u001b[43m)\u001b[49m\n",
      "Cell \u001b[0;32mIn[5], line 18\u001b[0m, in \u001b[0;36mrun_experiment\u001b[0;34m(base_params, num_trials, should_score, seeds)\u001b[0m\n\u001b[1;32m     16\u001b[0m trial_scores \u001b[38;5;241m=\u001b[39m segment_coco_val(results_dir\u001b[38;5;241m=\u001b[39mtrial_results_dir, debug_num\u001b[38;5;241m=\u001b[39m\u001b[38;5;241m-\u001b[39m\u001b[38;5;241m1\u001b[39m, resume\u001b[38;5;241m=\u001b[39m\u001b[38;5;28;01mTrue\u001b[39;00m, progress_bar\u001b[38;5;241m=\u001b[39mprogress_bar, should_score\u001b[38;5;241m=\u001b[39mshould_score, \u001b[38;5;241m*\u001b[39m\u001b[38;5;241m*\u001b[39mparams)\n\u001b[1;32m     17\u001b[0m image_ids \u001b[38;5;241m=\u001b[39m \u001b[38;5;28mlist\u001b[39m(trial_scores\u001b[38;5;241m.\u001b[39mkeys())\n\u001b[0;32m---> 18\u001b[0m metrics \u001b[38;5;241m=\u001b[39m trial_scores[\u001b[43mimage_ids\u001b[49m\u001b[43m[\u001b[49m\u001b[38;5;241;43m0\u001b[39;49m\u001b[43m]\u001b[49m]\u001b[38;5;241m.\u001b[39mkeys()\n\u001b[1;32m     19\u001b[0m trial_scores \u001b[38;5;241m=\u001b[39m {metric: np\u001b[38;5;241m.\u001b[39mmean([trial_scores[\u001b[38;5;28mid\u001b[39m][metric] \u001b[38;5;28;01mfor\u001b[39;00m \u001b[38;5;28mid\u001b[39m \u001b[38;5;129;01min\u001b[39;00m image_ids]) \u001b[38;5;28;01mfor\u001b[39;00m metric \u001b[38;5;129;01min\u001b[39;00m metrics}\n\u001b[1;32m     20\u001b[0m trials\u001b[38;5;241m.\u001b[39mappend(trial_scores)\n",
      "\u001b[0;31mIndexError\u001b[0m: list index out of range"
     ]
    }
   ],
   "source": [
    "def run_experiment(base_params, num_trials=1, should_score=True, seeds=None):\n",
    "    results_dir = f'experiment_results/coco_val'\n",
    "    if not os.path.exists(results_dir):\n",
    "        os.makedirs(results_dir)\n",
    "    aggregate_scores = {}\n",
    "    trials = []\n",
    "    mean_over_trials = {}\n",
    "    if seeds is None:\n",
    "        seeds = list(range(num_trials))\n",
    "    print(f'Running experiment with seeds: {seeds}')\n",
    "    with tqdm.tqdm(total=len(seeds) * len(val_image_ids)) as progress_bar:\n",
    "        for trial_num in seeds:\n",
    "            params = base_params.copy()\n",
    "            params['seed'] = trial_num\n",
    "            trial_results_dir = f'{results_dir}/{trial_num}'\n",
    "            trial_scores = segment_coco_val(results_dir=trial_results_dir, debug_num=-1, resume=True, progress_bar=progress_bar, should_score=should_score, **params)\n",
    "            image_ids = list(trial_scores.keys())\n",
    "            metrics = trial_scores[image_ids[0]].keys()\n",
    "            trial_scores = {metric: np.mean([trial_scores[id][metric] for id in image_ids]) for metric in metrics}\n",
    "            trials.append(trial_scores)\n",
    "    for metric in trials[0]:\n",
    "        mean_over_trials[metric] = np.mean([trial[metric] for trial in trials])\n",
    "    aggregate_scores = mean_over_trials\n",
    "    return aggregate_scores\n",
    "\n",
    "run_experiment(params, num_trials=1, should_score=True)"
   ]
  },
  {
   "cell_type": "code",
   "execution_count": 11,
   "metadata": {},
   "outputs": [
    {
     "name": "stdout",
     "output_type": "stream",
     "text": [
      "Mean Object Jaccard: 0.5415332208786632\n",
      "Mean Class Jaccard: 0.5530006427366786\n"
     ]
    }
   ],
   "source": [
    "import json\n",
    "import numpy as np \n",
    "import glob\n",
    "import os\n",
    "\n",
    "experiment_name = \"naive_voc\"\n",
    "results_dir = f'experiment_results/{experiment_name}'\n",
    "results_trial_dirs = [d for d in glob.glob(f'{results_dir}/*') if os.path.isdir(d)]\n",
    "all_object_jaccards = []\n",
    "all_class_jaccards = []\n",
    "for trial_dir in results_trial_dirs:\n",
    "    trial_scores = json.load(open(f'{trial_dir}/scores.json'))\n",
    "    for image_id in trial_scores[\"scores\"].keys():\n",
    "        all_object_jaccards.append(trial_scores[\"scores\"][image_id]['jaccard_object'])\n",
    "        all_class_jaccards.append(trial_scores[\"scores\"][image_id]['jaccard_class'])\n",
    "\n",
    "all_object_jaccards = [(x if not np.isnan(x) else 0) for x in all_object_jaccards]\n",
    "all_class_jaccards = [(x if not np.isnan(x) else 0) for x in all_class_jaccards]\n",
    "print(f\"Mean Object Jaccard: {np.mean(all_object_jaccards)}\")\n",
    "print(f\"Mean Class Jaccard: {np.mean(all_class_jaccards)}\")"
   ]
  }
 ],
 "metadata": {
  "kernelspec": {
   "display_name": "pytorch",
   "language": "python",
   "name": "python3"
  },
  "language_info": {
   "codemirror_mode": {
    "name": "ipython",
    "version": 3
   },
   "file_extension": ".py",
   "mimetype": "text/x-python",
   "name": "python",
   "nbconvert_exporter": "python",
   "pygments_lexer": "ipython3",
   "version": "3.10.12"
  }
 },
 "nbformat": 4,
 "nbformat_minor": 2
}
