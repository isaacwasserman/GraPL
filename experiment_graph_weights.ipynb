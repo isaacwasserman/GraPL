{
 "cells": [
  {
   "cell_type": "code",
   "execution_count": null,
   "metadata": {},
   "outputs": [],
   "source": [
    "%load_ext autoreload\n",
    "%autoreload 2\n",
    "%env CUBLAS_WORKSPACE_CONFIG=:4096:8\n",
    "from GraPL import hyperparameter_profiles, segment_bsds\n",
    "import glob\n",
    "import tqdm\n",
    "import matplotlib.pyplot as plt\n",
    "from GraPL.evaluate import bsds_score_directory\n",
    "import numpy as np\n",
    "import json\n",
    "import os"
   ]
  },
  {
   "cell_type": "code",
   "execution_count": null,
   "metadata": {},
   "outputs": [],
   "source": [
    "def run_experiment(base_params, changes, num_trials=2):\n",
    "    results_base_dir = f'experiment_results/graph_weights'\n",
    "    aggregate_scores = {}\n",
    "    for change in changes:\n",
    "        change_name = \"local\"\n",
    "        if \"use_fully_connected\" in change.keys():\n",
    "            change_name = \"fully_connected\"\n",
    "        elif \"use_color_distance_weights\" in change.keys():\n",
    "            change_name = \"color_distance\"\n",
    "        elif \"use_embeddings\" in change.keys():\n",
    "            change_name = \"dino\"\n",
    "        print(f'Running experiment with graph={change_name}...')\n",
    "        results_dir = f'{results_base_dir}/{change_name}'\n",
    "        trials = []\n",
    "        mean_over_trials = {}\n",
    "        with tqdm.tqdm(total=num_trials * 200) as progress_bar:\n",
    "            for trial_num in range(num_trials):\n",
    "                params = base_params.copy()\n",
    "                for key, value in change.items():\n",
    "                    params[key] = value\n",
    "                params['seed'] = trial_num\n",
    "                trial_results_dir = f'{results_dir}/{trial_num}'\n",
    "                trial_scores = segment_bsds(results_dir=trial_results_dir, progress_bar=progress_bar, **params)\n",
    "                image_ids = list(trial_scores.keys())\n",
    "                metrics = trial_scores[image_ids[0]].keys()\n",
    "                trial_scores = {metric: np.mean([trial_scores[id][metric] for id in image_ids]) for metric in metrics}\n",
    "                trials.append(trial_scores)\n",
    "        for metric in trials[0]:\n",
    "            mean_over_trials[metric] = np.mean([trial[metric] for trial in trials])\n",
    "        aggregate_scores[change_name] = mean_over_trials\n",
    "        print(f'Scores for change={change_name}: {mean_over_trials[\"accuracy\"]}')\n",
    "    return aggregate_scores\n",
    "\n",
    "base_params = hyperparameter_profiles[\"best_miou\"]\n",
    "base_params[\"use_fully_connected\"] = False\n",
    "base_params[\"use_color_distance_weights\"] = False\n",
    "base_params[\"use_embeddings\"] = False\n",
    "\n",
    "changes = [{}, {\"use_fully_connected\": True}, {\"use_color_distance_weights\": True}, {\"use_embeddings\": True}]\n",
    "\n",
    "aggregate_scores = run_experiment(base_params, changes, num_trials=10)"
   ]
  }
 ],
 "metadata": {
  "kernelspec": {
   "display_name": "Python 3 (ipykernel)",
   "language": "python",
   "name": "python3"
  },
  "language_info": {
   "codemirror_mode": {
    "name": "ipython",
    "version": 3
   },
   "file_extension": ".py",
   "mimetype": "text/x-python",
   "name": "python",
   "nbconvert_exporter": "python",
   "pygments_lexer": "ipython3",
   "version": "3.8.12"
  },
  "orig_nbformat": 4
 },
 "nbformat": 4,
 "nbformat_minor": 2
}
