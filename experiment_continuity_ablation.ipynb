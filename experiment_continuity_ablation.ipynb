{
 "cells": [
  {
   "cell_type": "code",
   "execution_count": null,
   "metadata": {},
   "outputs": [],
   "source": [
    "%env CUDA_LAUNCH_BLOCKING=1\n",
    "%env CUBLAS_WORKSPACE_CONFIG=:4096:8\n",
    "%load_ext autoreload\n",
    "%autoreload 2\n",
    "from GraPL import hyperparameter_profiles, segment_bsds\n",
    "import tqdm\n",
    "import matplotlib.pyplot as plt\n",
    "import numpy as np"
   ]
  },
  {
   "cell_type": "code",
   "execution_count": null,
   "metadata": {},
   "outputs": [],
   "source": [
    "def run_experiment(base_params, continuity_weights, num_trials=2):\n",
    "    results_base_dir = f'experiment_results/continuity_ablation'\n",
    "    aggregate_scores = {}\n",
    "    for continuity_weight in continuity_weights:\n",
    "        print(f'Running experiment with continuity_weight={continuity_weight}...')\n",
    "        results_dir = f'{results_base_dir}/{continuity_weight}'\n",
    "        trials = []\n",
    "        mean_over_trials = {}\n",
    "        with tqdm.tqdm(total=num_trials * 200) as progress_bar:\n",
    "            for trial_num in range(num_trials):\n",
    "                params = base_params.copy()\n",
    "                params['continuity_weight'] = continuity_weight\n",
    "                params['seed'] = trial_num\n",
    "                trial_results_dir = f'{results_dir}/{trial_num}'\n",
    "                trial_scores = segment_bsds(results_dir=trial_results_dir, resume=True, progress_bar=progress_bar, **params)\n",
    "                image_ids = list(trial_scores.keys())\n",
    "                metrics = trial_scores[image_ids[0]].keys()\n",
    "                trial_scores = {metric: np.mean([trial_scores[id][metric] for id in image_ids]) for metric in metrics}\n",
    "                trials.append(trial_scores)\n",
    "        for metric in trials[0]:\n",
    "            mean_over_trials[metric] = np.mean([trial[metric] for trial in trials])\n",
    "        aggregate_scores[continuity_weight] = mean_over_trials\n",
    "        print(f'Scores for continuity_weight={continuity_weight}: {mean_over_trials[\"accuracy\"]}')\n",
    "    return aggregate_scores\n",
    "\n",
    "base_params = hyperparameter_profiles[\"best_miou\"]\n",
    "\n",
    "continuity_weights = [0, 0.25, 0.5, 0.75, 1, 1.5, 2, 3, 4, 6, 8]  \n",
    "continuity_ranges = [1]\n",
    "\n",
    "run_experiment(base_params, continuity_weights, num_trials=10)"
   ]
  }
 ],
 "metadata": {
  "kernelspec": {
   "display_name": "Python 3",
   "language": "python",
   "name": "python3"
  },
  "language_info": {
   "codemirror_mode": {
    "name": "ipython",
    "version": 3
   },
   "file_extension": ".py",
   "mimetype": "text/x-python",
   "name": "python",
   "nbconvert_exporter": "python",
   "pygments_lexer": "ipython3",
   "version": "3.8.12"
  },
  "orig_nbformat": 4
 },
 "nbformat": 4,
 "nbformat_minor": 2
}
