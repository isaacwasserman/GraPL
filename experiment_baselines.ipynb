{
 "cells": [
  {
   "cell_type": "code",
   "execution_count": null,
   "metadata": {},
   "outputs": [],
   "source": [
    "%env CUDA_LAUNCH_BLOCKING=1\n",
    "%env CUBLAS_WORKSPACE_CONFIG=:4096:8\n",
    "%load_ext autoreload\n",
    "%autoreload 2\n",
    "import glob\n",
    "import tqdm\n",
    "import matplotlib.pyplot as plt\n",
    "from GraPL.evaluate import bsds_score\n",
    "from GraPL import get_DINO_embeddings\n",
    "from skimage.segmentation import slic\n",
    "import numpy as np\n",
    "import json\n",
    "import os\n",
    "import warnings\n",
    "import torch\n",
    "warnings.filterwarnings(\"ignore\")"
   ]
  },
  {
   "cell_type": "code",
   "execution_count": null,
   "metadata": {},
   "outputs": [],
   "source": [
    "image_paths = glob.glob(\"datasets/BSDS500/BSDS500/data/images/test/*.jpg\")\n",
    "\n",
    "num_trials = 10\n",
    "\n",
    "with tqdm.tqdm(total=num_trials*len(image_paths)) as pbar:\n",
    "    for trial_num in range(num_trials):\n",
    "        os.makedirs(f\"experiment_results/baselines/dino_slic/{trial_num}\", exist_ok=True)\n",
    "        paramset_scores = {}\n",
    "        for image_path in image_paths:\n",
    "            id = image_path.split(\"/\")[-1].split(\".\")[0]\n",
    "            image = plt.imread(image_path)\n",
    "            image = torch.tensor(image).permute(2, 0, 1).unsqueeze(0).float().to(\"mps\")\n",
    "            embeddings,_ = get_DINO_embeddings(image, image.shape[2] // 14, dimensions=3)\n",
    "            embeddings += embeddings.min()\n",
    "            embeddings /= embeddings.max()\n",
    "            embeddings *= 255\n",
    "            embeddings = embeddings.cpu().numpy().astype(np.uint8)\n",
    "            seg = slic(embeddings, n_segments=14, compactness=0.1, sigma=10)\n",
    "            plt.imsave(f\"experiment_results/baselines/dino_slic/{trial_num}/{id}.png\", seg, cmap=\"viridis\")\n",
    "            image_scores = bsds_score(id, f\"experiment_results/baselines/dino_slic/{trial_num}/{id}.png\")\n",
    "            paramset_scores[id] = image_scores\n",
    "            pbar.update(1)\n",
    "        with open(f'experiment_results/baselines/dino_slic/{trial_num}/scores.json', 'w') as fp:\n",
    "            results = {\"hyperparams\": \"slic segmentation by dino embeddings with compactness=0.1 and sigma=10\", \"scores\": paramset_scores}\n",
    "            json.dump(results, fp)"
   ]
  }
 ],
 "metadata": {
  "kernelspec": {
   "display_name": "Python 3 (ipykernel)",
   "language": "python",
   "name": "python3"
  },
  "language_info": {
   "codemirror_mode": {
    "name": "ipython",
    "version": 3
   },
   "file_extension": ".py",
   "mimetype": "text/x-python",
   "name": "python",
   "nbconvert_exporter": "python",
   "pygments_lexer": "ipython3",
   "version": "3.10.9"
  }
 },
 "nbformat": 4,
 "nbformat_minor": 4
}
